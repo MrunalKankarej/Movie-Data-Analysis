{
 "cells": [
  {
   "cell_type": "markdown",
   "id": "9b26ae1b-1210-4c4e-865f-a816b5208ff8",
   "metadata": {},
   "source": [
    "# Problem\n",
    "\n",
    "1. What was the average rating of each genre of movie? \n",
    "2. What were the top 3 highest and lowest rated genres? \n",
    "3. Which movies were ranked the most frequently? \n",
    "4. Who are the top 3 most frequent reviewers? What is their average rating score? \n",
    "5. Do the top 3 most frequent reviewers prefer a certain genres more than the others? Which ones? "
   ]
  },
  {
   "cell_type": "markdown",
   "id": "53db81ac-be6e-4018-b39c-f205348cf352",
   "metadata": {},
   "source": [
    "## Planning:\n",
    "\n",
    "1. Preprocessing\n",
    "2. Analysis of reviews for genre\n",
    "3. Analysis for movie reviews\n",
    "4. Analysis of reviewer frequency\n",
    "5. Conclusion"
   ]
  },
  {
   "cell_type": "markdown",
   "id": "5fd0e15c-e51c-4bdc-b86c-42619f764cde",
   "metadata": {},
   "source": [
    "### Preprocessing\n",
    "1. Removing any null values from the reviews\n",
    "2. Removing any duplicated values\n",
    "3. Merging the dataframes"
   ]
  },
  {
   "cell_type": "code",
   "execution_count": 202,
   "id": "5f62054d-cba4-49e1-ba23-bbd37a5101c2",
   "metadata": {},
   "outputs": [],
   "source": [
    "import pandas as pd\n",
    "import numpy as np"
   ]
  },
  {
   "cell_type": "code",
   "execution_count": 204,
   "id": "ed61fcab-58ba-4b11-8b84-48c764c2138c",
   "metadata": {},
   "outputs": [
    {
     "name": "stdout",
     "output_type": "stream",
     "text": [
      "   userId  movieId  rating   timestamp\n",
      "0       1       16     4.0  1217897793\n",
      "1       1       24     1.5  1217895807\n",
      "2       1       32     4.0  1217896246\n",
      "3       1       47     4.0  1217896556\n",
      "4       1       50     4.0  1217896523 \n",
      "\n",
      "               userId        movieId         rating     timestamp\n",
      "count  105339.000000  105339.000000  105339.000000  1.053390e+05\n",
      "mean      364.924539   13381.312477       3.516850  1.130424e+09\n",
      "std       197.486905   26170.456869       1.044872  1.802660e+08\n",
      "min         1.000000       1.000000       0.500000  8.285650e+08\n",
      "25%       192.000000    1073.000000       3.000000  9.711008e+08\n",
      "50%       383.000000    2497.000000       3.500000  1.115154e+09\n",
      "75%       557.000000    5991.000000       4.000000  1.275496e+09\n",
      "max       668.000000  149532.000000       5.000000  1.452405e+09\n"
     ]
    }
   ],
   "source": [
    "# Examining the 'ratings' table\n",
    "df = pd.read_csv(\"ratings.csv\")\n",
    "print(df.head(), \"\\n\\n\", df.describe())"
   ]
  },
  {
   "cell_type": "code",
   "execution_count": 206,
   "id": "8e8c7fcc-46de-4a2b-b597-77e4c99c5a7d",
   "metadata": {},
   "outputs": [
    {
     "name": "stdout",
     "output_type": "stream",
     "text": [
      "   movieId                               title  \\\n",
      "0        1                    Toy Story (1995)   \n",
      "1        2                      Jumanji (1995)   \n",
      "2        3             Grumpier Old Men (1995)   \n",
      "3        4            Waiting to Exhale (1995)   \n",
      "4        5  Father of the Bride Part II (1995)   \n",
      "\n",
      "                                        genres  \n",
      "0  Adventure|Animation|Children|Comedy|Fantasy  \n",
      "1                   Adventure|Children|Fantasy  \n",
      "2                               Comedy|Romance  \n",
      "3                         Comedy|Drama|Romance  \n",
      "4                                       Comedy   \n",
      "\n",
      " [     1      2      3 ... 148238 148626 149532]\n"
     ]
    }
   ],
   "source": [
    "# Examining the 'movies' table\n",
    "df2 = pd.read_csv(\"movies.csv.xls\")\n",
    "print(df2.head(), '\\n\\n', df2['movieId'].unique())"
   ]
  },
  {
   "cell_type": "code",
   "execution_count": 208,
   "id": "f16c4d04-9dfb-4f79-b0a7-4d791374ec70",
   "metadata": {},
   "outputs": [
    {
     "data": {
      "text/html": [
       "<div>\n",
       "<style scoped>\n",
       "    .dataframe tbody tr th:only-of-type {\n",
       "        vertical-align: middle;\n",
       "    }\n",
       "\n",
       "    .dataframe tbody tr th {\n",
       "        vertical-align: top;\n",
       "    }\n",
       "\n",
       "    .dataframe thead th {\n",
       "        text-align: right;\n",
       "    }\n",
       "</style>\n",
       "<table border=\"1\" class=\"dataframe\">\n",
       "  <thead>\n",
       "    <tr style=\"text-align: right;\">\n",
       "      <th></th>\n",
       "      <th>userId</th>\n",
       "      <th>movieId</th>\n",
       "      <th>rating</th>\n",
       "      <th>timestamp</th>\n",
       "      <th>title</th>\n",
       "      <th>genres</th>\n",
       "    </tr>\n",
       "  </thead>\n",
       "  <tbody>\n",
       "    <tr>\n",
       "      <th>0</th>\n",
       "      <td>2.0</td>\n",
       "      <td>1</td>\n",
       "      <td>5.0</td>\n",
       "      <td>8.590469e+08</td>\n",
       "      <td>Toy Story (1995)</td>\n",
       "      <td>Adventure|Animation|Children|Comedy|Fantasy</td>\n",
       "    </tr>\n",
       "    <tr>\n",
       "      <th>1</th>\n",
       "      <td>5.0</td>\n",
       "      <td>1</td>\n",
       "      <td>4.0</td>\n",
       "      <td>1.303501e+09</td>\n",
       "      <td>Toy Story (1995)</td>\n",
       "      <td>Adventure|Animation|Children|Comedy|Fantasy</td>\n",
       "    </tr>\n",
       "    <tr>\n",
       "      <th>2</th>\n",
       "      <td>8.0</td>\n",
       "      <td>1</td>\n",
       "      <td>5.0</td>\n",
       "      <td>8.586109e+08</td>\n",
       "      <td>Toy Story (1995)</td>\n",
       "      <td>Adventure|Animation|Children|Comedy|Fantasy</td>\n",
       "    </tr>\n",
       "    <tr>\n",
       "      <th>3</th>\n",
       "      <td>11.0</td>\n",
       "      <td>1</td>\n",
       "      <td>4.0</td>\n",
       "      <td>8.508158e+08</td>\n",
       "      <td>Toy Story (1995)</td>\n",
       "      <td>Adventure|Animation|Children|Comedy|Fantasy</td>\n",
       "    </tr>\n",
       "    <tr>\n",
       "      <th>4</th>\n",
       "      <td>14.0</td>\n",
       "      <td>1</td>\n",
       "      <td>4.0</td>\n",
       "      <td>8.517663e+08</td>\n",
       "      <td>Toy Story (1995)</td>\n",
       "      <td>Adventure|Animation|Children|Comedy|Fantasy</td>\n",
       "    </tr>\n",
       "  </tbody>\n",
       "</table>\n",
       "</div>"
      ],
      "text/plain": [
       "   userId  movieId  rating     timestamp             title  \\\n",
       "0     2.0        1     5.0  8.590469e+08  Toy Story (1995)   \n",
       "1     5.0        1     4.0  1.303501e+09  Toy Story (1995)   \n",
       "2     8.0        1     5.0  8.586109e+08  Toy Story (1995)   \n",
       "3    11.0        1     4.0  8.508158e+08  Toy Story (1995)   \n",
       "4    14.0        1     4.0  8.517663e+08  Toy Story (1995)   \n",
       "\n",
       "                                        genres  \n",
       "0  Adventure|Animation|Children|Comedy|Fantasy  \n",
       "1  Adventure|Animation|Children|Comedy|Fantasy  \n",
       "2  Adventure|Animation|Children|Comedy|Fantasy  \n",
       "3  Adventure|Animation|Children|Comedy|Fantasy  \n",
       "4  Adventure|Animation|Children|Comedy|Fantasy  "
      ]
     },
     "execution_count": 208,
     "metadata": {},
     "output_type": "execute_result"
    }
   ],
   "source": [
    "# Merging the movies table and ratings table based on the 'movieId' comlumn\n",
    "merged_df = pd.merge(df, df2, on = \"movieId\", how= \"right\")\n",
    "merged_df.head()"
   ]
  },
  {
   "cell_type": "code",
   "execution_count": 210,
   "id": "b503aeb6-1b5b-4b47-b1a0-2373926c8e55",
   "metadata": {},
   "outputs": [
    {
     "data": {
      "text/plain": [
       "4"
      ]
     },
     "execution_count": 210,
     "metadata": {},
     "output_type": "execute_result"
    }
   ],
   "source": [
    "# Determining if there are any null reviews\n",
    "merged_df['rating'].isna().sum()"
   ]
  },
  {
   "cell_type": "code",
   "execution_count": 212,
   "id": "71dacdc8-317b-47dc-9a94-5ee547a70a6c",
   "metadata": {},
   "outputs": [],
   "source": [
    "# Dropping the reviews with null values\n",
    "merged_df = merged_df.dropna()"
   ]
  },
  {
   "cell_type": "code",
   "execution_count": 214,
   "id": "2f5b51f6-ebfe-4e7f-bc98-9d46e0141277",
   "metadata": {},
   "outputs": [
    {
     "data": {
      "text/plain": [
       "0         False\n",
       "1         False\n",
       "2         False\n",
       "3         False\n",
       "4         False\n",
       "          ...  \n",
       "105338    False\n",
       "105339    False\n",
       "105340    False\n",
       "105341    False\n",
       "105342    False\n",
       "Length: 105339, dtype: bool"
      ]
     },
     "execution_count": 214,
     "metadata": {},
     "output_type": "execute_result"
    }
   ],
   "source": [
    "duplicates = merged_df.duplicated()\n",
    "duplicates"
   ]
  },
  {
   "cell_type": "code",
   "execution_count": 216,
   "id": "4b8853d5-dc5f-4f86-897e-3600c2505438",
   "metadata": {},
   "outputs": [
    {
     "data": {
      "text/plain": [
       "Series([], dtype: bool)"
      ]
     },
     "execution_count": 216,
     "metadata": {},
     "output_type": "execute_result"
    }
   ],
   "source": [
    "# No duplicates observed\n",
    "duplicates[duplicates == 'True']"
   ]
  },
  {
   "cell_type": "markdown",
   "id": "53c104b4-7630-4467-bd11-15268da3a7cc",
   "metadata": {},
   "source": [
    "### Genre Analysis\n",
    "1. Average reviews per genre\n",
    "2. Determining top 3 highest and lowest rated genres\n",
    "3. Visualizing average score per genre"
   ]
  },
  {
   "cell_type": "code",
   "execution_count": 219,
   "id": "e0c13a80-c3fa-4433-8b9d-39aab9cbeea9",
   "metadata": {},
   "outputs": [
    {
     "data": {
      "text/html": [
       "<div>\n",
       "<style scoped>\n",
       "    .dataframe tbody tr th:only-of-type {\n",
       "        vertical-align: middle;\n",
       "    }\n",
       "\n",
       "    .dataframe tbody tr th {\n",
       "        vertical-align: top;\n",
       "    }\n",
       "\n",
       "    .dataframe thead th {\n",
       "        text-align: right;\n",
       "    }\n",
       "</style>\n",
       "<table border=\"1\" class=\"dataframe\">\n",
       "  <thead>\n",
       "    <tr style=\"text-align: right;\">\n",
       "      <th></th>\n",
       "      <th>0</th>\n",
       "      <th>1</th>\n",
       "      <th>2</th>\n",
       "      <th>3</th>\n",
       "      <th>4</th>\n",
       "      <th>5</th>\n",
       "      <th>6</th>\n",
       "      <th>7</th>\n",
       "      <th>8</th>\n",
       "      <th>9</th>\n",
       "    </tr>\n",
       "  </thead>\n",
       "  <tbody>\n",
       "    <tr>\n",
       "      <th>0</th>\n",
       "      <td>Adventure</td>\n",
       "      <td>Animation</td>\n",
       "      <td>Children</td>\n",
       "      <td>Comedy</td>\n",
       "      <td>Fantasy</td>\n",
       "      <td>None</td>\n",
       "      <td>None</td>\n",
       "      <td>None</td>\n",
       "      <td>None</td>\n",
       "      <td>None</td>\n",
       "    </tr>\n",
       "    <tr>\n",
       "      <th>1</th>\n",
       "      <td>Adventure</td>\n",
       "      <td>Animation</td>\n",
       "      <td>Children</td>\n",
       "      <td>Comedy</td>\n",
       "      <td>Fantasy</td>\n",
       "      <td>None</td>\n",
       "      <td>None</td>\n",
       "      <td>None</td>\n",
       "      <td>None</td>\n",
       "      <td>None</td>\n",
       "    </tr>\n",
       "    <tr>\n",
       "      <th>2</th>\n",
       "      <td>Adventure</td>\n",
       "      <td>Animation</td>\n",
       "      <td>Children</td>\n",
       "      <td>Comedy</td>\n",
       "      <td>Fantasy</td>\n",
       "      <td>None</td>\n",
       "      <td>None</td>\n",
       "      <td>None</td>\n",
       "      <td>None</td>\n",
       "      <td>None</td>\n",
       "    </tr>\n",
       "    <tr>\n",
       "      <th>3</th>\n",
       "      <td>Adventure</td>\n",
       "      <td>Animation</td>\n",
       "      <td>Children</td>\n",
       "      <td>Comedy</td>\n",
       "      <td>Fantasy</td>\n",
       "      <td>None</td>\n",
       "      <td>None</td>\n",
       "      <td>None</td>\n",
       "      <td>None</td>\n",
       "      <td>None</td>\n",
       "    </tr>\n",
       "    <tr>\n",
       "      <th>4</th>\n",
       "      <td>Adventure</td>\n",
       "      <td>Animation</td>\n",
       "      <td>Children</td>\n",
       "      <td>Comedy</td>\n",
       "      <td>Fantasy</td>\n",
       "      <td>None</td>\n",
       "      <td>None</td>\n",
       "      <td>None</td>\n",
       "      <td>None</td>\n",
       "      <td>None</td>\n",
       "    </tr>\n",
       "  </tbody>\n",
       "</table>\n",
       "</div>"
      ],
      "text/plain": [
       "           0          1         2       3        4     5     6     7     8  \\\n",
       "0  Adventure  Animation  Children  Comedy  Fantasy  None  None  None  None   \n",
       "1  Adventure  Animation  Children  Comedy  Fantasy  None  None  None  None   \n",
       "2  Adventure  Animation  Children  Comedy  Fantasy  None  None  None  None   \n",
       "3  Adventure  Animation  Children  Comedy  Fantasy  None  None  None  None   \n",
       "4  Adventure  Animation  Children  Comedy  Fantasy  None  None  None  None   \n",
       "\n",
       "      9  \n",
       "0  None  \n",
       "1  None  \n",
       "2  None  \n",
       "3  None  \n",
       "4  None  "
      ]
     },
     "execution_count": 219,
     "metadata": {},
     "output_type": "execute_result"
    }
   ],
   "source": [
    "# Splitting up the string in 'genre' column into individual genres\n",
    "sub = merged_df[\"genres\"].str.split('|', expand=True)\n",
    "sub.head()"
   ]
  },
  {
   "cell_type": "code",
   "execution_count": 221,
   "id": "1a29a697-2d91-4077-8869-f811b4c5fd68",
   "metadata": {},
   "outputs": [
    {
     "name": "stdout",
     "output_type": "stream",
     "text": [
      "['Adventure', 'Comedy', 'Action', 'Drama', 'Crime', 'Children', 'Mystery', 'Animation', 'Documentary', 'Thriller', 'Horror', 'Fantasy', 'Western', 'Film-Noir', 'Romance', 'Sci-Fi', 'Musical', 'War', '(no genres listed)', 'IMAX']\n"
     ]
    }
   ],
   "source": [
    "# Adding a column for each unique genre within the 'sub' dataframe into the originally merged dataframe\n",
    "genres = []\n",
    "for i in range (10):\n",
    "    li = sub[i].unique()\n",
    "    for j in li:\n",
    "        if(j not in genres and j is not None):\n",
    "            genres.append(j)\n",
    "            merged_df[j] = 0\n",
    "    \n",
    "print(genres)"
   ]
  },
  {
   "cell_type": "code",
   "execution_count": 223,
   "id": "c2ee2d65-d53f-43e3-aa29-97dc24773a94",
   "metadata": {
    "scrolled": true
   },
   "outputs": [
    {
     "data": {
      "text/plain": [
       "Index(['userId', 'movieId', 'rating', 'timestamp', 'title', 'genres',\n",
       "       'Adventure', 'Comedy', 'Action', 'Drama', 'Crime', 'Children',\n",
       "       'Mystery', 'Animation', 'Documentary', 'Thriller', 'Horror', 'Fantasy',\n",
       "       'Western', 'Film-Noir', 'Romance', 'Sci-Fi', 'Musical', 'War',\n",
       "       '(no genres listed)', 'IMAX'],\n",
       "      dtype='object')"
      ]
     },
     "execution_count": 223,
     "metadata": {},
     "output_type": "execute_result"
    }
   ],
   "source": [
    "merged_df.columns "
   ]
  },
  {
   "cell_type": "code",
   "execution_count": 225,
   "id": "e0fff8a3-69e0-447b-8d5a-59826de3f065",
   "metadata": {
    "scrolled": true
   },
   "outputs": [
    {
     "data": {
      "text/html": [
       "<div>\n",
       "<style scoped>\n",
       "    .dataframe tbody tr th:only-of-type {\n",
       "        vertical-align: middle;\n",
       "    }\n",
       "\n",
       "    .dataframe tbody tr th {\n",
       "        vertical-align: top;\n",
       "    }\n",
       "\n",
       "    .dataframe thead th {\n",
       "        text-align: right;\n",
       "    }\n",
       "</style>\n",
       "<table border=\"1\" class=\"dataframe\">\n",
       "  <thead>\n",
       "    <tr style=\"text-align: right;\">\n",
       "      <th></th>\n",
       "      <th>userId</th>\n",
       "      <th>movieId</th>\n",
       "      <th>rating</th>\n",
       "      <th>timestamp</th>\n",
       "      <th>title</th>\n",
       "      <th>genres</th>\n",
       "      <th>Adventure</th>\n",
       "      <th>Comedy</th>\n",
       "      <th>Action</th>\n",
       "      <th>Drama</th>\n",
       "      <th>...</th>\n",
       "      <th>Horror</th>\n",
       "      <th>Fantasy</th>\n",
       "      <th>Western</th>\n",
       "      <th>Film-Noir</th>\n",
       "      <th>Romance</th>\n",
       "      <th>Sci-Fi</th>\n",
       "      <th>Musical</th>\n",
       "      <th>War</th>\n",
       "      <th>(no genres listed)</th>\n",
       "      <th>IMAX</th>\n",
       "    </tr>\n",
       "  </thead>\n",
       "  <tbody>\n",
       "    <tr>\n",
       "      <th>0</th>\n",
       "      <td>2.0</td>\n",
       "      <td>1</td>\n",
       "      <td>5.0</td>\n",
       "      <td>8.590469e+08</td>\n",
       "      <td>Toy Story (1995)</td>\n",
       "      <td>Adventure|Animation|Children|Comedy|Fantasy</td>\n",
       "      <td>0</td>\n",
       "      <td>0</td>\n",
       "      <td>0</td>\n",
       "      <td>0</td>\n",
       "      <td>...</td>\n",
       "      <td>0</td>\n",
       "      <td>0</td>\n",
       "      <td>0</td>\n",
       "      <td>0</td>\n",
       "      <td>0</td>\n",
       "      <td>0</td>\n",
       "      <td>0</td>\n",
       "      <td>0</td>\n",
       "      <td>0</td>\n",
       "      <td>0</td>\n",
       "    </tr>\n",
       "    <tr>\n",
       "      <th>1</th>\n",
       "      <td>5.0</td>\n",
       "      <td>1</td>\n",
       "      <td>4.0</td>\n",
       "      <td>1.303501e+09</td>\n",
       "      <td>Toy Story (1995)</td>\n",
       "      <td>Adventure|Animation|Children|Comedy|Fantasy</td>\n",
       "      <td>0</td>\n",
       "      <td>0</td>\n",
       "      <td>0</td>\n",
       "      <td>0</td>\n",
       "      <td>...</td>\n",
       "      <td>0</td>\n",
       "      <td>0</td>\n",
       "      <td>0</td>\n",
       "      <td>0</td>\n",
       "      <td>0</td>\n",
       "      <td>0</td>\n",
       "      <td>0</td>\n",
       "      <td>0</td>\n",
       "      <td>0</td>\n",
       "      <td>0</td>\n",
       "    </tr>\n",
       "    <tr>\n",
       "      <th>2</th>\n",
       "      <td>8.0</td>\n",
       "      <td>1</td>\n",
       "      <td>5.0</td>\n",
       "      <td>8.586109e+08</td>\n",
       "      <td>Toy Story (1995)</td>\n",
       "      <td>Adventure|Animation|Children|Comedy|Fantasy</td>\n",
       "      <td>0</td>\n",
       "      <td>0</td>\n",
       "      <td>0</td>\n",
       "      <td>0</td>\n",
       "      <td>...</td>\n",
       "      <td>0</td>\n",
       "      <td>0</td>\n",
       "      <td>0</td>\n",
       "      <td>0</td>\n",
       "      <td>0</td>\n",
       "      <td>0</td>\n",
       "      <td>0</td>\n",
       "      <td>0</td>\n",
       "      <td>0</td>\n",
       "      <td>0</td>\n",
       "    </tr>\n",
       "    <tr>\n",
       "      <th>3</th>\n",
       "      <td>11.0</td>\n",
       "      <td>1</td>\n",
       "      <td>4.0</td>\n",
       "      <td>8.508158e+08</td>\n",
       "      <td>Toy Story (1995)</td>\n",
       "      <td>Adventure|Animation|Children|Comedy|Fantasy</td>\n",
       "      <td>0</td>\n",
       "      <td>0</td>\n",
       "      <td>0</td>\n",
       "      <td>0</td>\n",
       "      <td>...</td>\n",
       "      <td>0</td>\n",
       "      <td>0</td>\n",
       "      <td>0</td>\n",
       "      <td>0</td>\n",
       "      <td>0</td>\n",
       "      <td>0</td>\n",
       "      <td>0</td>\n",
       "      <td>0</td>\n",
       "      <td>0</td>\n",
       "      <td>0</td>\n",
       "    </tr>\n",
       "    <tr>\n",
       "      <th>4</th>\n",
       "      <td>14.0</td>\n",
       "      <td>1</td>\n",
       "      <td>4.0</td>\n",
       "      <td>8.517663e+08</td>\n",
       "      <td>Toy Story (1995)</td>\n",
       "      <td>Adventure|Animation|Children|Comedy|Fantasy</td>\n",
       "      <td>0</td>\n",
       "      <td>0</td>\n",
       "      <td>0</td>\n",
       "      <td>0</td>\n",
       "      <td>...</td>\n",
       "      <td>0</td>\n",
       "      <td>0</td>\n",
       "      <td>0</td>\n",
       "      <td>0</td>\n",
       "      <td>0</td>\n",
       "      <td>0</td>\n",
       "      <td>0</td>\n",
       "      <td>0</td>\n",
       "      <td>0</td>\n",
       "      <td>0</td>\n",
       "    </tr>\n",
       "  </tbody>\n",
       "</table>\n",
       "<p>5 rows × 26 columns</p>\n",
       "</div>"
      ],
      "text/plain": [
       "   userId  movieId  rating     timestamp             title  \\\n",
       "0     2.0        1     5.0  8.590469e+08  Toy Story (1995)   \n",
       "1     5.0        1     4.0  1.303501e+09  Toy Story (1995)   \n",
       "2     8.0        1     5.0  8.586109e+08  Toy Story (1995)   \n",
       "3    11.0        1     4.0  8.508158e+08  Toy Story (1995)   \n",
       "4    14.0        1     4.0  8.517663e+08  Toy Story (1995)   \n",
       "\n",
       "                                        genres  Adventure  Comedy  Action  \\\n",
       "0  Adventure|Animation|Children|Comedy|Fantasy          0       0       0   \n",
       "1  Adventure|Animation|Children|Comedy|Fantasy          0       0       0   \n",
       "2  Adventure|Animation|Children|Comedy|Fantasy          0       0       0   \n",
       "3  Adventure|Animation|Children|Comedy|Fantasy          0       0       0   \n",
       "4  Adventure|Animation|Children|Comedy|Fantasy          0       0       0   \n",
       "\n",
       "   Drama  ...  Horror  Fantasy  Western  Film-Noir  Romance  Sci-Fi  Musical  \\\n",
       "0      0  ...       0        0        0          0        0       0        0   \n",
       "1      0  ...       0        0        0          0        0       0        0   \n",
       "2      0  ...       0        0        0          0        0       0        0   \n",
       "3      0  ...       0        0        0          0        0       0        0   \n",
       "4      0  ...       0        0        0          0        0       0        0   \n",
       "\n",
       "   War  (no genres listed)  IMAX  \n",
       "0    0                   0     0  \n",
       "1    0                   0     0  \n",
       "2    0                   0     0  \n",
       "3    0                   0     0  \n",
       "4    0                   0     0  \n",
       "\n",
       "[5 rows x 26 columns]"
      ]
     },
     "execution_count": 225,
     "metadata": {},
     "output_type": "execute_result"
    }
   ],
   "source": [
    "merged_df.head()"
   ]
  },
  {
   "cell_type": "code",
   "execution_count": 227,
   "id": "e7e9d9f2-9fdb-4062-98e2-c5319d3b2b01",
   "metadata": {
    "scrolled": true
   },
   "outputs": [
    {
     "data": {
      "text/plain": [
       "{'Adventure': [0, 0],\n",
       " 'Comedy': [0, 0],\n",
       " 'Action': [0, 0],\n",
       " 'Drama': [0, 0],\n",
       " 'Crime': [0, 0],\n",
       " 'Children': [0, 0],\n",
       " 'Mystery': [0, 0],\n",
       " 'Animation': [0, 0],\n",
       " 'Documentary': [0, 0],\n",
       " 'Thriller': [0, 0],\n",
       " 'Horror': [0, 0],\n",
       " 'Fantasy': [0, 0],\n",
       " 'Western': [0, 0],\n",
       " 'Film-Noir': [0, 0],\n",
       " 'Romance': [0, 0],\n",
       " 'Sci-Fi': [0, 0],\n",
       " 'Musical': [0, 0],\n",
       " 'War': [0, 0],\n",
       " '(no genres listed)': [0, 0],\n",
       " 'IMAX': [0, 0]}"
      ]
     },
     "execution_count": 227,
     "metadata": {},
     "output_type": "execute_result"
    }
   ],
   "source": [
    "# Initializing avg rating to be [0,0] where the first element is total movies of the type and 2nd element is sum of reviews\n",
    "avg_ratings = {}\n",
    "for i in genres:\n",
    "    avg_ratings[i] = [0, 0]\n",
    "avg_ratings"
   ]
  },
  {
   "cell_type": "code",
   "execution_count": 229,
   "id": "5aaf53e3-b1d0-4370-b35d-f0a25cfa7202",
   "metadata": {},
   "outputs": [
    {
     "data": {
      "text/plain": [
       "{'Adventure': [23076, 81182.0],\n",
       " 'Comedy': [38055, 130186.0],\n",
       " 'Action': [31205, 107702.5],\n",
       " 'Drama': [46960, 171416.5],\n",
       " 'Crime': [18291, 66623.0],\n",
       " 'Children': [8098, 27852.5],\n",
       " 'Mystery': [8320, 30385.0],\n",
       " 'Animation': [5966, 21688.5],\n",
       " 'Documentary': [1206, 4393.5],\n",
       " 'Thriller': [29288, 102378.0],\n",
       " 'Horror': [7983, 26193.0],\n",
       " 'Fantasy': [10889, 38116.5],\n",
       " 'Western': [2314, 8251.0],\n",
       " 'Film-Noir': [1210, 4735.5],\n",
       " 'Romance': [19094, 67674.0],\n",
       " 'Sci-Fi': [16795, 58018.0],\n",
       " 'Musical': [4287, 15313.0],\n",
       " 'War': [5828, 22048.5],\n",
       " '(no genres listed)': [7, 21.5],\n",
       " 'IMAX': [0, 0]}"
      ]
     },
     "execution_count": 229,
     "metadata": {},
     "output_type": "execute_result"
    }
   ],
   "source": [
    "# Calculating total reviews and score per genre\n",
    "for index, row in merged_df.iterrows():\n",
    "    avg_ratings[i] = [0, 0]\n",
    "    li2 = row['genres'].split(\"|\")\n",
    "    for j in li2:\n",
    "        merged_df.at[index, j] = 1\n",
    "        avg_ratings[j][0]+=1;\n",
    "        avg_ratings[j][1]+=row[\"rating\"]\n",
    "avg_ratings"
   ]
  },
  {
   "cell_type": "code",
   "execution_count": 230,
   "id": "ba3c75ef-6e4d-4a8b-82ba-5d92c4542ad3",
   "metadata": {},
   "outputs": [],
   "source": [
    "# Deleting the IMAX genre as it has no reviews entered and then computing average rating per genre\n",
    "del avg_ratings['IMAX']\n",
    "genres.remove('IMAX')\n",
    "for i in genres:\n",
    "    avg_ratings[i] = round((avg_ratings[i][1]/avg_ratings[i][0]), 2)"
   ]
  },
  {
   "cell_type": "code",
   "execution_count": 233,
   "id": "21de5faf-f9bc-4e83-8a6e-6d567602414c",
   "metadata": {},
   "outputs": [
    {
     "data": {
      "text/plain": [
       "{'Adventure': 3.52,\n",
       " 'Comedy': 3.42,\n",
       " 'Action': 3.45,\n",
       " 'Drama': 3.65,\n",
       " 'Crime': 3.64,\n",
       " 'Children': 3.44,\n",
       " 'Mystery': 3.65,\n",
       " 'Animation': 3.64,\n",
       " 'Documentary': 3.64,\n",
       " 'Thriller': 3.5,\n",
       " 'Horror': 3.28,\n",
       " 'Fantasy': 3.5,\n",
       " 'Western': 3.57,\n",
       " 'Film-Noir': 3.91,\n",
       " 'Romance': 3.54,\n",
       " 'Sci-Fi': 3.45,\n",
       " 'Musical': 3.57,\n",
       " 'War': 3.78,\n",
       " '(no genres listed)': 3.07}"
      ]
     },
     "execution_count": 233,
     "metadata": {},
     "output_type": "execute_result"
    }
   ],
   "source": [
    "avg_ratings"
   ]
  },
  {
   "cell_type": "code",
   "execution_count": 235,
   "id": "13a58ac9-9356-4865-9e2a-fd89a3b85181",
   "metadata": {
    "scrolled": true
   },
   "outputs": [],
   "source": [
    "import matplotlib.pyplot as plt"
   ]
  },
  {
   "cell_type": "code",
   "execution_count": 237,
   "id": "56592470-f01a-41a3-a231-e9b678dc5f4d",
   "metadata": {
    "scrolled": true
   },
   "outputs": [
    {
     "data": {
      "text/plain": [
       "<BarContainer object of 19 artists>"
      ]
     },
     "execution_count": 237,
     "metadata": {},
     "output_type": "execute_result"
    },
    {
     "data": {
      "image/png": "[encoded data removed]",
      "text/plain": [
       "<Figure size 2000x500 with 1 Axes>"
      ]
     },
     "metadata": {},
     "output_type": "display_data"
    }
   ],
   "source": [
    "# Visualizing average rating per genre\n",
    "fig = plt.figure(figsize = (20, 5))\n",
    "plt.bar(avg_ratings.keys(), avg_ratings.values(), color = \"blue\", width = 0.5)"
   ]
  },
  {
   "cell_type": "code",
   "execution_count": 239,
   "id": "ff90faad-f1bf-42fc-96c3-6dc910946eb4",
   "metadata": {
    "scrolled": true
   },
   "outputs": [],
   "source": [
    "# Organizing the key value pairs in decreasing order as a list\n",
    "ordered_rating = []\n",
    "max_key = 'Adventure'\n",
    "max_val = avg_ratings['Adventure']\n",
    "while (len(ordered_rating) < 19):\n",
    "    for key, value in avg_ratings.items():\n",
    "        if(value > max_val):\n",
    "            max_key = key\n",
    "            max_val = value\n",
    "    ordered_rating.append((max_key, max_val))\n",
    "    del avg_ratings[max_key]\n",
    "    max_val = 0\n",
    "    max_key = \"\"\n",
    "    "
   ]
  },
  {
   "cell_type": "code",
   "execution_count": 241,
   "id": "f1311247-310a-492b-a5d6-0a2ab7cbf285",
   "metadata": {},
   "outputs": [
    {
     "data": {
      "text/plain": [
       "[('Film-Noir', 3.91),\n",
       " ('War', 3.78),\n",
       " ('Drama', 3.65),\n",
       " ('Mystery', 3.65),\n",
       " ('Crime', 3.64),\n",
       " ('Animation', 3.64),\n",
       " ('Documentary', 3.64),\n",
       " ('Western', 3.57),\n",
       " ('Musical', 3.57),\n",
       " ('Romance', 3.54),\n",
       " ('Adventure', 3.52),\n",
       " ('Thriller', 3.5),\n",
       " ('Fantasy', 3.5),\n",
       " ('Action', 3.45),\n",
       " ('Sci-Fi', 3.45),\n",
       " ('Children', 3.44),\n",
       " ('Comedy', 3.42),\n",
       " ('Horror', 3.28),\n",
       " ('(no genres listed)', 3.07)]"
      ]
     },
     "execution_count": 241,
     "metadata": {},
     "output_type": "execute_result"
    }
   ],
   "source": [
    "# Printing genres as per rating in decreasing order\n",
    "ordered_rating"
   ]
  },
  {
   "cell_type": "markdown",
   "id": "8c2569a5-59fa-493c-af16-20164aefa27b",
   "metadata": {},
   "source": [
    "### Results\n",
    "\n",
    "1. What was the average rating of each genre of movie?\n",
    "The average rating per movie genre is as follows:\n",
    "\n",
    "| Genre | Rating |\n",
    "| ----- | ------ |\n",
    "| Film-Noir | 3.91 |\n",
    "| War | 3.78 |\n",
    "| Drama | 3.65 |\n",
    "| Mystery | 3.65 |\n",
    "| Crime | 3.64 |\n",
    "| Animation | 3.64 |\n",
    "| Documentary | 3.64 |\n",
    "| Western | 3.57 |\n",
    "| Musical | 3.57 |\n",
    "| Romance | 3.54 |\n",
    "| Adventure | 3.52 |\n",
    "| Thriller | 3.5 |\n",
    "| Fantasy | 3.5 |\n",
    "| Action | 3.45 |\n",
    "| Sci-Fi | 3.45 |\n",
    "| Children | 3.44 |\n",
    "| Comedy | 3.42 |\n",
    "| Horror | 3.28 |\n",
    "| (no genres listed) | 3.07 |\n",
    "\n",
    "\n",
    "2. What were the top 3 highest and lowest rated genres?\n",
    "\n",
    "Highest Rated Genres:\n",
    "| Genre | Rating |\n",
    "| ----- | ------ |\n",
    "| Film-Noir | 3.91 |\n",
    "| War | 3.78 |\n",
    "| Drama | 3.65 |\n",
    "| Mystery | 3.65 |\n",
    "\n",
    "Lowest Rated Genres:\n",
    "| Genre | Rating |\n",
    "| ----- | ------ |\n",
    "| Comedy | 3.42 |\n",
    "| Horror | 3.28 |\n",
    "| (no genres listed) | 3.07 |"
   ]
  },
  {
   "cell_type": "code",
   "execution_count": 245,
   "id": "46beaae8-f5d8-4b83-a272-0f8230abbd78",
   "metadata": {},
   "outputs": [
    {
     "name": "stdout",
     "output_type": "stream",
     "text": [
      "Top Three rankings\n",
      "---------------------\n",
      "1st Place:  Film-Noir\n",
      "2nd Place:  War\n",
      "3rd Place: () Drama\n",
      "-----------------------------------------\n",
      "Bottom Three rankings\n",
      "---------------------\n",
      "3rd Last Place:  Comedy\n",
      "2nd Last Place:  Horror\n",
      "Last Place:  (no genres listed)\n",
      "-----------------------------------------\n"
     ]
    }
   ],
   "source": [
    "# PRINTING TOP THREE HIGHEST RATED AND LOWEST RATED GENRES ARE:\n",
    "print(\"Top Three rankings\\n---------------------\")\n",
    "print(\"1st Place: \", ordered_rating[0][0])\n",
    "print(\"2nd Place: \", ordered_rating[1][0])\n",
    "print(\"3rd Place: ()\", ordered_rating[2][0])\n",
    "print(\"-----------------------------------------\\nBottom Three rankings\\n---------------------\")\n",
    "print(\"3rd Last Place: \", ordered_rating[16][0])\n",
    "print(\"2nd Last Place: \", ordered_rating[17][0])\n",
    "print(\"Last Place: \", ordered_rating[18][0])\n",
    "print(\"-----------------------------------------\")"
   ]
  },
  {
   "cell_type": "markdown",
   "id": "8472cf5b-1f67-4bb2-9c0a-6562ecc6ee81",
   "metadata": {},
   "source": [
    "### Reviews Analysis for movies and User Id\n",
    "\n",
    "1. Analysis of number of reviews per user\n",
    "2. Analysis of number of reviews per movie\n",
    "3. Examining most frequently reviewed movie\n",
    "4. Examining users with most reviews and the genres they reviewed"
   ]
  },
  {
   "cell_type": "code",
   "execution_count": 330,
   "id": "54614e69-5e65-4c59-8802-353c4ae3a3ea",
   "metadata": {},
   "outputs": [
    {
     "data": {
      "text/plain": [
       "10323"
      ]
     },
     "execution_count": 330,
     "metadata": {},
     "output_type": "execute_result"
    }
   ],
   "source": [
    "len(merged_df['title'].unique()) # Total number of movies reviewed"
   ]
  },
  {
   "cell_type": "code",
   "execution_count": 331,
   "id": "7c800fc8-548f-48e9-9ca9-371b5f7c9b7d",
   "metadata": {},
   "outputs": [
    {
     "data": {
      "text/plain": [
       "668"
      ]
     },
     "execution_count": 331,
     "metadata": {},
     "output_type": "execute_result"
    }
   ],
   "source": [
    "len(merged_df['userId'].unique()) # Total number of reviewers"
   ]
  },
  {
   "cell_type": "code",
   "execution_count": 253,
   "id": "fd4030e0-b95c-4623-b998-b68d8f3023d9",
   "metadata": {
    "scrolled": true
   },
   "outputs": [],
   "source": [
    "# Calculating the number of reviews per movie and user\n",
    "reviewers_avg = {} # A: (B, C) format where A = user id number, B = count of movies reviewed, C = total score given\n",
    "movies_avg_score = {}\n",
    "\n",
    "def avg_scorer(diction, series):\n",
    "    for index, value in merged_df.iterrows():\n",
    "        if(value[series] in diction.keys()):\n",
    "            diction[value[series]][0] += 1 # Counter\n",
    "            diction[value[series]][1] += value['rating'] # Score summation\n",
    "        else:\n",
    "            diction[value[series]] = [0, 0]\n",
    "avg_scorer(reviewers_avg, 'userId')\n",
    "avg_scorer(movies_avg_score, 'movieId')"
   ]
  },
  {
   "cell_type": "code",
   "execution_count": 296,
   "id": "1d3dc080-7e0a-4c0f-914a-fbafc66698bc",
   "metadata": {},
   "outputs": [
    {
     "name": "stdout",
     "output_type": "stream",
     "text": [
      "5 5\n",
      "[[296, 324, 1348.0], [318, 307, 1368.0], [356, 310, 1284.0], [480, 293, 1072.5], [593, 289, 1211.5]]\n",
      "--------------------\n",
      "[[232.0, 1420, 5500.5], [310.0, 1286, 3905.0], [458.0, 2085, 7029.0], [575.0, 2836, 8691.5], [668.0, 5677, 15879.5]]\n"
     ]
    }
   ],
   "source": [
    "# Function for most frequently ranked movies and most frequently written reviews (with lower bound)\n",
    "def top_rankers(diction, num):\n",
    "    lister = []\n",
    "    for x in diction.keys():\n",
    "        if(diction[x][0] > num):\n",
    "            lister.append([x, diction[x][0], diction[x][1]])\n",
    "    return lister\n",
    "\n",
    "most_movie_reviews = top_rankers(movies_avg_score, 280)\n",
    "most_reviews_written = top_rankers(reviewers_avg, 1250)\n",
    "print(len(most_movie_reviews), len(most_reviews_written))\n",
    "print(most_movie_reviews)\n",
    "print(\"--------------------\")\n",
    "print(most_reviews_written)"
   ]
  },
  {
   "cell_type": "code",
   "execution_count": 298,
   "id": "f64efd39-f5c0-464b-a498-31129dfe09c9",
   "metadata": {},
   "outputs": [
    {
     "data": {
      "text/html": [
       "<div>\n",
       "<style scoped>\n",
       "    .dataframe tbody tr th:only-of-type {\n",
       "        vertical-align: middle;\n",
       "    }\n",
       "\n",
       "    .dataframe tbody tr th {\n",
       "        vertical-align: top;\n",
       "    }\n",
       "\n",
       "    .dataframe thead th {\n",
       "        text-align: right;\n",
       "    }\n",
       "</style>\n",
       "<table border=\"1\" class=\"dataframe\">\n",
       "  <thead>\n",
       "    <tr style=\"text-align: right;\">\n",
       "      <th></th>\n",
       "      <th>movieId</th>\n",
       "      <th>title</th>\n",
       "      <th>genres</th>\n",
       "    </tr>\n",
       "  </thead>\n",
       "  <tbody>\n",
       "    <tr>\n",
       "      <th>0</th>\n",
       "      <td>1</td>\n",
       "      <td>Toy Story (1995)</td>\n",
       "      <td>Adventure|Animation|Children|Comedy|Fantasy</td>\n",
       "    </tr>\n",
       "    <tr>\n",
       "      <th>1</th>\n",
       "      <td>2</td>\n",
       "      <td>Jumanji (1995)</td>\n",
       "      <td>Adventure|Children|Fantasy</td>\n",
       "    </tr>\n",
       "    <tr>\n",
       "      <th>2</th>\n",
       "      <td>3</td>\n",
       "      <td>Grumpier Old Men (1995)</td>\n",
       "      <td>Comedy|Romance</td>\n",
       "    </tr>\n",
       "    <tr>\n",
       "      <th>3</th>\n",
       "      <td>4</td>\n",
       "      <td>Waiting to Exhale (1995)</td>\n",
       "      <td>Comedy|Drama|Romance</td>\n",
       "    </tr>\n",
       "    <tr>\n",
       "      <th>4</th>\n",
       "      <td>5</td>\n",
       "      <td>Father of the Bride Part II (1995)</td>\n",
       "      <td>Comedy</td>\n",
       "    </tr>\n",
       "  </tbody>\n",
       "</table>\n",
       "</div>"
      ],
      "text/plain": [
       "   movieId                               title  \\\n",
       "0        1                    Toy Story (1995)   \n",
       "1        2                      Jumanji (1995)   \n",
       "2        3             Grumpier Old Men (1995)   \n",
       "3        4            Waiting to Exhale (1995)   \n",
       "4        5  Father of the Bride Part II (1995)   \n",
       "\n",
       "                                        genres  \n",
       "0  Adventure|Animation|Children|Comedy|Fantasy  \n",
       "1                   Adventure|Children|Fantasy  \n",
       "2                               Comedy|Romance  \n",
       "3                         Comedy|Drama|Romance  \n",
       "4                                       Comedy  "
      ]
     },
     "execution_count": 298,
     "metadata": {},
     "output_type": "execute_result"
    }
   ],
   "source": [
    "df2.head()"
   ]
  },
  {
   "cell_type": "code",
   "execution_count": 300,
   "id": "6104693f-e711-42af-965d-a3fa786aec24",
   "metadata": {},
   "outputs": [
    {
     "name": "stdout",
     "output_type": "stream",
     "text": [
      "['Walking Dead, The (1995)', 324, 4.16]\n",
      "['Higher Learning (1995)', 307, 4.46]\n",
      "['In the Mouth of Madness (1995)', 310, 4.14]\n",
      "['Sirens (1994)', 293, 3.66]\n",
      "['Feeling Minnesota (1996)', 289, 4.19]\n"
     ]
    }
   ],
   "source": [
    "# replaces movie id with movie name and calculates their average scores\n",
    "for i in most_movie_reviews:\n",
    "    i[0] = df2.loc[i[0], 'title'] # replace movie id with title\n",
    "    i[2] = round(i[2]/ i[1], 2) # replaces total counted score with average score\n",
    "    print(i)\n"
   ]
  },
  {
   "cell_type": "code",
   "execution_count": 302,
   "id": "8a937985-a5fe-42cd-b44a-654733efb335",
   "metadata": {},
   "outputs": [
    {
     "name": "stdout",
     "output_type": "stream",
     "text": [
      "[232.0, 1420, 3.87]\n",
      "[310.0, 1286, 3.04]\n",
      "[458.0, 2085, 3.37]\n",
      "[575.0, 2836, 3.06]\n",
      "[668.0, 5677, 2.8]\n"
     ]
    }
   ],
   "source": [
    "# calculates the average scores for user\n",
    "for i in most_reviews_written:\n",
    "    i[2] = round(i[2]/ i[1], 2) # replaces total counted score with average score\n",
    "    print(i)"
   ]
  },
  {
   "cell_type": "code",
   "execution_count": 306,
   "id": "db9fad26-2c68-49f0-9925-21720d56e257",
   "metadata": {},
   "outputs": [
    {
     "name": "stdout",
     "output_type": "stream",
     "text": [
      "User 232 Analysis:  \n",
      " {'Adventure': 287, 'Animation': 113, 'Children': 134, 'Comedy': 606, 'Fantasy': 196, 'Romance': 147, 'Mystery': 125, 'Sci-Fi': 268, 'Thriller': 500, 'Drama': 454, 'Action': 410, 'Crime': 193, 'War': 31, 'Horror': 257, 'Musical': 28, 'IMAX': 87, 'Documentary': 36, 'Western': 10, 'Film-Noir': 3}\n",
      "User 310 Analysis:  \n",
      " {'Adventure': 212, 'Animation': 38, 'Children': 51, 'Comedy': 463, 'Fantasy': 97, 'Action': 308, 'Crime': 229, 'Thriller': 349, 'Romance': 260, 'Drama': 719, 'Horror': 56, 'Mystery': 91, 'Sci-Fi': 166, 'War': 72, 'IMAX': 17, 'Film-Noir': 11, 'Western': 15, 'Musical': 19, 'Documentary': 23}\n",
      "User 458 Analysis:  \n",
      " {'Adventure': 333, 'Animation': 73, 'Children': 81, 'Comedy': 733, 'Fantasy': 98, 'Action': 589, 'Crime': 505, 'Thriller': 599, 'Romance': 295, 'Drama': 1106, 'Horror': 60, 'Mystery': 146, 'Sci-Fi': 193, 'War': 129, 'IMAX': 51, 'Documentary': 21, 'Western': 72, 'Film-Noir': 40, 'Musical': 45}\n"
     ]
    }
   ],
   "source": [
    "# Examining the genre interests of top 3 reviewers with function reviewers_analysis\n",
    "reviewer_232 = merged_df[merged_df['userId'] == 232.0]\n",
    "reviewer_310 = merged_df[merged_df['userId'] == 310.0]\n",
    "reviewer_458 = merged_df[merged_df['userId'] == 458.0]\n",
    "\n",
    "def reviewers_analysis(sub_df):\n",
    "    genre_counter = {}\n",
    "    for index, value in sub_df.iterrows():\n",
    "        for g in value['genres'].split(\"|\"):\n",
    "            if(g in genre_counter.keys()):\n",
    "                genre_counter[g]+=1\n",
    "            else:\n",
    "                genre_counter[g] = 0\n",
    "    return genre_counter\n",
    "    \n",
    "analysis_232 = reviewers_analysis(reviewer_232)\n",
    "analysis_310 = reviewers_analysis(reviewer_310)\n",
    "analysis_458 = reviewers_analysis(reviewer_458)\n",
    "print(\"User 232 Analysis: \", \"\\n\", analysis_232)\n",
    "print(\"User 310 Analysis: \", \"\\n\", analysis_310)\n",
    "print(\"User 458 Analysis: \", \"\\n\", analysis_458) "
   ]
  },
  {
   "cell_type": "code",
   "execution_count": 308,
   "id": "ff10252e-3c93-40ba-abd8-8b6e1e086606",
   "metadata": {},
   "outputs": [
    {
     "name": "stdout",
     "output_type": "stream",
     "text": [
      "('Comedy', 606)\n",
      "('Drama', 719)\n",
      "('Drama', 1106)\n"
     ]
    }
   ],
   "source": [
    "# returns highest rated genre for each of the top reviewers\n",
    "def most_rev_genre(user_revs):\n",
    "    gen = \"\"\n",
    "    reviews = 0\n",
    "    for i in user_revs.keys():\n",
    "        if(user_revs[i]>reviews):\n",
    "            gen = i\n",
    "            reviews = user_revs[i]\n",
    "    return (gen, reviews)\n",
    "\n",
    "print(most_rev_genre(analysis_232))\n",
    "print(most_rev_genre(analysis_310))\n",
    "print(most_rev_genre(analysis_458))"
   ]
  },
  {
   "cell_type": "markdown",
   "id": "8880d4fa-7188-4b47-b00d-6f6e2e51d10a",
   "metadata": {},
   "source": [
    "### Results\n",
    "\n",
    "1. Which movies were ranked the most frequently?\n",
    "\n",
    "The top 5 most frequently ranked movies were:\n",
    "| Movie | Total Reviews| Average Rating|\n",
    "| ----- | -------------| --------------|\n",
    "|The Walking Dead | 324 | 4.16 |\n",
    "|Higher Learning| 307| 4.46|\n",
    "|In the Mouth of Madness| 310| 4.14|\n",
    "|Sirens|293|3.66|\n",
    "|Feeling Minnesota|289|4.19|\n",
    "\n",
    "  \n",
    "2. Who are the top 3 most frequent reviewers? What is their average rating score?\n",
    "\n",
    "The top 3 most frequent reviewers were:\n",
    "\n",
    "|User Id| Total Reviews| Average Ratings|\n",
    "|-------|-------------|---------------|\n",
    "|232.0|1420|3.87|\n",
    "|310.0|1286|3.04|\n",
    "|458.0|2085|3.37|\n",
    "\n",
    "\n",
    "3. Do the top 3 most frequent reviewers prefer a certain genres more than the others? Which ones?\n",
    "\n",
    "It was observed that user 232 has reviewed \"Comedy\" movies most frequently. Meanwhile, users 310 and 458 primarily reviewed \"Drama\" genres."
   ]
  },
  {
   "cell_type": "code",
   "execution_count": 314,
   "id": "54280f75-39fa-4441-b3c2-3dec9c9cb1d1",
   "metadata": {},
   "outputs": [],
   "source": [
    "merged_df.to_csv(\"Merged Movie Review Table\", index = False)"
   ]
  },
  {
   "cell_type": "code",
   "execution_count": 316,
   "id": "650bfa59-27ee-400d-921c-a29fe26475d4",
   "metadata": {},
   "outputs": [],
   "source": [
    "merged_df.to_excel(\"Final_Movies_Reviews_Table.xlsx\",index = False)"
   ]
  },
  {
   "cell_type": "code",
   "execution_count": null,
   "id": "b48e594f-5f5d-4893-b018-580e840c2d4b",
   "metadata": {},
   "outputs": [],
   "source": []
  }
 ],
 "metadata": {
  "kernelspec": {
   "display_name": "Python 3 (ipykernel)",
   "language": "python",
   "name": "python3"
  },
  "language_info": {
   "codemirror_mode": {
    "name": "ipython",
    "version": 3
   },
   "file_extension": ".py",
   "mimetype": "text/x-python",
   "name": "python",
   "nbconvert_exporter": "python",
   "pygments_lexer": "ipython3",
   "version": "3.12.7"
  }
 },
 "nbformat": 4,
 "nbformat_minor": 5
}
